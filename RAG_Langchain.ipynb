{
 "cells": [
  {
   "cell_type": "code",
   "execution_count": 168,
   "id": "bf852c5d",
   "metadata": {},
   "outputs": [],
   "source": [
    "# LLM 로드\n",
    "import os\n",
    "from dotenv import load_dotenv\n",
    "from langchain_openai import ChatOpenAI\n",
    "\n",
    "load_dotenv()  # VS Code에서 자동 로드 안 하면 필수\n",
    "\n",
    "llm = ChatOpenAI(\n",
    "    base_url=os.environ[\"OPENAI_BASE_URL\"],   # http://172.16.10.168:9993/v1\n",
    "    api_key=os.environ[\"OPENAI_API_KEY\"],     # vLLM이면 더미도 OK\n",
    "    model=os.environ[\"OPENAI_MODEL\"],         # vLLM served model name과 정확히 일치\n",
    "    temperature=0,\n",
    ")"
   ]
  },
  {
   "cell_type": "code",
   "execution_count": 169,
   "id": "43914693",
   "metadata": {},
   "outputs": [],
   "source": [
    "import bs4\n",
    "from langchain import hub\n",
    "from langchain_text_splitters import RecursiveCharacterTextSplitter\n",
    "from langchain_community.document_loaders import WebBaseLoader\n",
    "from langchain_community.vectorstores import FAISS\n",
    "from langchain_core.output_parsers import StrOutputParser\n",
    "from langchain_core.runnables import RunnablePassthrough\n",
    "from langchain_openai import ChatOpenAI\n",
    "from langchain_huggingface import HuggingFaceEmbeddings\n",
    "from langchain_core.documents import Document\n",
    "import pandas as pd\n",
    "import re\n",
    "from langchain_core.output_parsers import StrOutputParser\n",
    "from langchain_core.runnables import RunnableLambda"
   ]
  },
  {
   "cell_type": "code",
   "execution_count": 170,
   "id": "233fa7c1",
   "metadata": {},
   "outputs": [
    {
     "name": "stdout",
     "output_type": "stream",
     "text": [
      "문서의 수: 9\n"
     ]
    },
    {
     "data": {
      "text/html": [
       "<div>\n",
       "<style scoped>\n",
       "    .dataframe tbody tr th:only-of-type {\n",
       "        vertical-align: middle;\n",
       "    }\n",
       "\n",
       "    .dataframe tbody tr th {\n",
       "        vertical-align: top;\n",
       "    }\n",
       "\n",
       "    .dataframe thead th {\n",
       "        text-align: right;\n",
       "    }\n",
       "</style>\n",
       "<table border=\"1\" class=\"dataframe\">\n",
       "  <thead>\n",
       "    <tr style=\"text-align: right;\">\n",
       "      <th></th>\n",
       "      <th>항목</th>\n",
       "      <th>내용</th>\n",
       "    </tr>\n",
       "  </thead>\n",
       "  <tbody>\n",
       "    <tr>\n",
       "      <th>0</th>\n",
       "      <td>추진배경</td>\n",
       "      <td>민생경제 회복을 위한 조치로 소비활성화와 소상공인 및 자영업자 매출확대를 위해 민생...</td>\n",
       "    </tr>\n",
       "    <tr>\n",
       "      <th>1</th>\n",
       "      <td>대상</td>\n",
       "      <td>전 국민 대상으로 지급</td>\n",
       "    </tr>\n",
       "    <tr>\n",
       "      <th>2</th>\n",
       "      <td>지원금액</td>\n",
       "      <td>1인당 15 ~ 55만원, 소득별 맞춤형 지원 및 단계적 지급</td>\n",
       "    </tr>\n",
       "    <tr>\n",
       "      <th>3</th>\n",
       "      <td>지원방식</td>\n",
       "      <td>1차 : 전국민 1인당 15 ~ 40만원 우선 지급\\r\\n2차 : 전국민 90%에게...</td>\n",
       "    </tr>\n",
       "    <tr>\n",
       "      <th>4</th>\n",
       "      <td>신청 및 지급 기간</td>\n",
       "      <td>1차 : 2025.07.21.(월) ~ 09.12.(금)\\r\\n2차 : 2025.0...</td>\n",
       "    </tr>\n",
       "    <tr>\n",
       "      <th>5</th>\n",
       "      <td>신청방법</td>\n",
       "      <td>온라인 : 카드사・지역사랑상품권 홈페이지, 앱, 콜센터, ARS\\r\\n오프라인 : ...</td>\n",
       "    </tr>\n",
       "    <tr>\n",
       "      <th>6</th>\n",
       "      <td>사용처</td>\n",
       "      <td>지역사랑상품권 : 지역사랑상품권 가맹점\\r\\n신용・체크・선불카드 : 연 매출액 30...</td>\n",
       "    </tr>\n",
       "    <tr>\n",
       "      <th>7</th>\n",
       "      <td>사용기한</td>\n",
       "      <td>2025.11.30.(일)까지</td>\n",
       "    </tr>\n",
       "    <tr>\n",
       "      <th>8</th>\n",
       "      <td>기사</td>\n",
       "      <td>구윤철 부총리 겸 기획재정부 장관이 3일 \"민생회복 소비쿠폰 등 정책 효과로 8월 ...</td>\n",
       "    </tr>\n",
       "  </tbody>\n",
       "</table>\n",
       "</div>"
      ],
      "text/plain": [
       "           항목                                                 내용\n",
       "0        추진배경  민생경제 회복을 위한 조치로 소비활성화와 소상공인 및 자영업자 매출확대를 위해 민생...\n",
       "1          대상                                       전 국민 대상으로 지급\n",
       "2        지원금액                 1인당 15 ~ 55만원, 소득별 맞춤형 지원 및 단계적 지급\n",
       "3        지원방식  1차 : 전국민 1인당 15 ~ 40만원 우선 지급\\r\\n2차 : 전국민 90%에게...\n",
       "4  신청 및 지급 기간  1차 : 2025.07.21.(월) ~ 09.12.(금)\\r\\n2차 : 2025.0...\n",
       "5        신청방법  온라인 : 카드사・지역사랑상품권 홈페이지, 앱, 콜센터, ARS\\r\\n오프라인 : ...\n",
       "6         사용처  지역사랑상품권 : 지역사랑상품권 가맹점\\r\\n신용・체크・선불카드 : 연 매출액 30...\n",
       "7        사용기한                                   2025.11.30.(일)까지\n",
       "8          기사  구윤철 부총리 겸 기획재정부 장관이 3일 \"민생회복 소비쿠폰 등 정책 효과로 8월 ..."
      ]
     },
     "execution_count": 170,
     "metadata": {},
     "output_type": "execute_result"
    }
   ],
   "source": [
    "# 뉴스기사 내용을 로드하고, 청크로 나누고, 인덱싱합니다.\n",
    "# loader = WebBaseLoader(\n",
    "#     web_paths=(\"http://www.apt-ami.co.kr/nuri/\",),\n",
    "#     bs_kwargs=dict(\n",
    "#         parse_only=bs4.SoupStrainer(\n",
    "#             \"div\",\n",
    "#             attrs={\"class\": \"post-content\"},\n",
    "#         )\n",
    "#     ),\n",
    "# )\n",
    "\n",
    "# docs = loader.load()\n",
    "docs = pd.read_csv(r\"C:\\Users\\nuri\\Desktop\\RAG\\민생.csv\", sep=None, engine=\"python\", encoding=\"utf-8-sig\")\n",
    "print(f\"문서의 수: {len(docs)}\")\n",
    "docs"
   ]
  },
  {
   "cell_type": "code",
   "execution_count": 171,
   "id": "73b64dc0",
   "metadata": {},
   "outputs": [],
   "source": [
    "# text_splitter = RecursiveCharacterTextSplitter(chunk_size=1000, chunk_overlap=100)\n",
    "\n",
    "# splits = text_splitter.split_documents(docs)\n",
    "# len(splits)\n",
    "\n",
    "text = open(\"C:/Users/nuri/Desktop/RAG/민생.csv\", encoding=\"utf-8-sig\").read()\n",
    "text_splitter = RecursiveCharacterTextSplitter(chunk_size=1000, chunk_overlap=100)\n",
    "\n",
    "chunks = text_splitter.split_text(text)\n",
    "splits = [Document(page_content=c, metadata={\"source\": \"민생.txt\"}) for c in chunks]"
   ]
  },
  {
   "cell_type": "code",
   "execution_count": 172,
   "id": "a888c20f",
   "metadata": {},
   "outputs": [],
   "source": [
    "# 벡터스토어를 생성합니다.\n",
    "vectorstore = FAISS.from_documents(documents=splits, embedding=HuggingFaceEmbeddings())\n",
    "\n",
    "# 뉴스에 포함되어 있는 정보를 검색하고 생성합니다.\n",
    "retriever = vectorstore.as_retriever()"
   ]
  },
  {
   "cell_type": "code",
   "execution_count": 173,
   "id": "89387a40",
   "metadata": {},
   "outputs": [],
   "source": [
    "from langchain_core.prompts import PromptTemplate\n",
    "\n",
    "prompt = PromptTemplate.from_template(\n",
    "    \"\"\"당신은 질문-답변(Question-Answering)을 수행하는 친절한 AI 어시스턴트입니다. 당신의 임무는 주어진 문맥(context) 에서 주어진 질문(question) 에 답하는 것입니다.\n",
    "    검색된 다음 문맥(context) 을 사용하여 질문(question)에 답하세요. 또한 사고과정(<think>)은 출력하지 말고 만약, 주어진 문맥(context) 에서 답을 찾을 수 없다면, 답을 모른다면 주어진 정보에서\n",
    "    질문에 대한 정보를 찾을 수 없습니다 라고 답하세요. 한글로 답변해 주세요. 단, 기술적인 용어나 이름은 번역하지 않고 그대로 사용해 주세요.\n",
    "\n",
    "\n",
    "\n",
    "#Question: \n",
    "{question} \n",
    "\n",
    "#Context: \n",
    "{context} \n",
    "\n",
    "#Answer:\"\"\"\n",
    ")"
   ]
  },
  {
   "cell_type": "code",
   "execution_count": 174,
   "id": "797ca10b",
   "metadata": {},
   "outputs": [],
   "source": [
    "# 체인을 생성합니다.\n",
    "rag_chain = (\n",
    "    {\"context\": retriever, \"question\": RunnablePassthrough()}\n",
    "    | prompt\n",
    "    | llm\n",
    "    | StrOutputParser()\n",
    ")\n",
    "\n",
    "def format_docs(docs):\n",
    "    return \"\\n\\n---\\n\\n\".join(d.page_content for d in docs)\n",
    "\n",
    "# think 블록 제거 (좀 더 관대한 패턴)\n",
    "def drop_think(text: str) -> str:\n",
    "    return re.sub(r\"<\\s*think\\b[^>]*>.*?</\\s*think\\s*>\\s*\", \"\", text, flags=re.S|re.I)"
   ]
  },
  {
   "cell_type": "code",
   "execution_count": 177,
   "id": "c51e0feb",
   "metadata": {},
   "outputs": [
    {
     "name": "stdout",
     "output_type": "stream",
     "text": [
      "- **지급시기**: 2025년 9월 22일(월)부터 2025년 10월 31일(금)까지  \n",
      "- **지급액수**: 1인당 10만원 (전국민의 90% 대상)\n"
     ]
    }
   ],
   "source": [
    "# for chunk in rag_chain.stream(\"대한민국의 올해 실행된 정책중 민생지원금의 1차 지급과 관련해서 설명해주세요\"):\n",
    "#     print(chunk, end=\"\", flush=True)\n",
    "\n",
    "raw = rag_chain.invoke(\"민생지원금의 2차 지원금 지급시기와 지급액수와 관련된 내용을 'bullet points' 형식으로 정리해주세요\")\n",
    "clean = drop_think(raw)\n",
    "print(clean)"
   ]
  }
 ],
 "metadata": {
  "kernelspec": {
   "display_name": ".venv",
   "language": "python",
   "name": "python3"
  },
  "language_info": {
   "codemirror_mode": {
    "name": "ipython",
    "version": 3
   },
   "file_extension": ".py",
   "mimetype": "text/x-python",
   "name": "python",
   "nbconvert_exporter": "python",
   "pygments_lexer": "ipython3",
   "version": "3.13.5"
  }
 },
 "nbformat": 4,
 "nbformat_minor": 5
}
